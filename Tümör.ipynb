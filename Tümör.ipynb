{
  "nbformat": 4,
  "nbformat_minor": 0,
  "metadata": {
    "colab": {
      "provenance": [],
      "authorship_tag": "ABX9TyMZ3d1I587FWx+CjvJ0L7Um",
      "include_colab_link": true
    },
    "kernelspec": {
      "name": "python3",
      "display_name": "Python 3"
    },
    "language_info": {
      "name": "python"
    },
    "accelerator": "GPU",
    "gpuClass": "standard"
  },
  "cells": [
    {
      "cell_type": "markdown",
      "metadata": {
        "id": "view-in-github",
        "colab_type": "text"
      },
      "source": [
        "<a href=\"https://colab.research.google.com/github/yavuzkuk/Tumor-Diagnosis/blob/main/T%C3%BCm%C3%B6r.ipynb\" target=\"_parent\"><img src=\"https://colab.research.google.com/assets/colab-badge.svg\" alt=\"Open In Colab\"/></a>"
      ]
    },
    {
      "cell_type": "code",
      "execution_count": null,
      "metadata": {
        "id": "HTc1RJo_gIAY",
        "colab": {
          "base_uri": "https://localhost:8080/"
        },
        "outputId": "e1442145-b0aa-47fe-8140-983a171857b4"
      },
      "outputs": [
        {
          "output_type": "stream",
          "name": "stdout",
          "text": [
            "Drive already mounted at /content/gdrive/; to attempt to forcibly remount, call drive.mount(\"/content/gdrive/\", force_remount=True).\n"
          ]
        }
      ],
      "source": [
        "from google.colab import drive\n",
        "from tensorflow.keras.utils import load_img\n",
        "import os\n",
        "import matplotlib.pyplot as plt\n",
        "import cv2\n",
        "from PIL import Image\n",
        "import numpy as np\n",
        "from sklearn.utils import shuffle\n",
        "from sklearn.model_selection import train_test_split\n",
        "import tensorflow as tf\n",
        "from keras.utils.np_utils import to_categorical\n",
        "from keras.models import Sequential \n",
        "import pandas as pd\n",
        "from keras.layers import Dense,Conv2D,Flatten,MaxPooling2D,BatchNormalization,Dropout,GlobalAveragePooling2D\n",
        "\n",
        "drive.mount(\"/content/gdrive/\")"
      ]
    },
    {
      "cell_type": "code",
      "source": [
        "cd gdrive/MyDrive/Brain-Tumor-Classification-DataSet-master"
      ],
      "metadata": {
        "id": "eRPtzQ-ZBMgy",
        "colab": {
          "base_uri": "https://localhost:8080/"
        },
        "outputId": "4d3f0a29-d663-4e79-aa94-ce3d509be7e9"
      },
      "execution_count": null,
      "outputs": [
        {
          "output_type": "stream",
          "name": "stdout",
          "text": [
            "/content/gdrive/.shortcut-targets-by-id/1qvAeI1c-3Xpfbkt1d8JeXMAPPyV2dZzj/Brain-Tumor-Classification-DataSet-master\n"
          ]
        }
      ]
    },
    {
      "cell_type": "code",
      "source": [
        "os.listdir()\n",
        "os.getcwd()"
      ],
      "metadata": {
        "id": "v561MhQGB2qU",
        "colab": {
          "base_uri": "https://localhost:8080/",
          "height": 36
        },
        "outputId": "cf7c2e9c-7c63-4b56-aace-8e8091308854"
      },
      "execution_count": null,
      "outputs": [
        {
          "output_type": "execute_result",
          "data": {
            "text/plain": [
              "'/content/gdrive/.shortcut-targets-by-id/1qvAeI1c-3Xpfbkt1d8JeXMAPPyV2dZzj/Brain-Tumor-Classification-DataSet-master'"
            ],
            "application/vnd.google.colaboratory.intrinsic+json": {
              "type": "string"
            }
          },
          "metadata": {},
          "execution_count": 3
        }
      ]
    },
    {
      "cell_type": "code",
      "source": [
        "url = \"/content/gdrive/.shortcut-targets-by-id/1qvAeI1c-3Xpfbkt1d8JeXMAPPyV2dZzj/Brain-Tumor-Classification-DataSet-master\"\n",
        "\n",
        "train_img = []\n",
        "train_label = []\n",
        "\n",
        "etiket = ['glioma_tumor','no_tumor','meningioma_tumor','pituitary_tumor']\n",
        "\n",
        "trainUrl = os.path.join(url,\"Training\")\n",
        "testUrl = os.path.join(url,\"Testing\")\n",
        "\n",
        "for x in etiket:\n",
        "  trainUrl2 = os.path.join(trainUrl,x)\n",
        "  for y in os.listdir(trainUrl2):\n",
        "    img = cv2.imread(os.path.join(trainUrl2,y))\n",
        "    img = cv2.resize(img,(128,128))\n",
        "    train_img.append(img)\n",
        "    train_label.append(x)\n",
        "\n",
        "\n",
        "for x in etiket:\n",
        "  testUrl2 = os.path.join(testUrl,x)\n",
        "  for y in os.listdir(testUrl2):\n",
        "    img = cv2.imread(os.path.join(testUrl2,y))\n",
        "    img = cv2.resize(img,(128,128))\n",
        "    train_img.append(img)\n",
        "    train_label.append(x)\n",
        "\n",
        "\n",
        "train_img = np.array(train_img)\n",
        "train_label = np.array(train_label)\n"
      ],
      "metadata": {
        "id": "WILb17GyBNXE"
      },
      "execution_count": null,
      "outputs": []
    },
    {
      "cell_type": "code",
      "source": [
        "from google.colab.patches import cv2_imshow"
      ],
      "metadata": {
        "id": "kg3stORheqhD"
      },
      "execution_count": null,
      "outputs": []
    },
    {
      "cell_type": "code",
      "source": [
        "#for x in etiket:\n",
        "#  testUrl2 = os.path.join(testUrl,x)\n",
        "#  for y in os.listdir(testUrl2):\n",
        "#    img = load_img(os.path.join(testUrl2,y))\n",
        "#    img = cv2.imread(os.path.join(testUrl2,y))\n",
        "#    cv2_imshow(img)"
      ],
      "metadata": {
        "id": "P6J9EBwabZ70"
      },
      "execution_count": null,
      "outputs": []
    },
    {
      "cell_type": "code",
      "source": [
        "train_img.shape"
      ],
      "metadata": {
        "id": "dfZL4G9ZcK-f",
        "colab": {
          "base_uri": "https://localhost:8080/"
        },
        "outputId": "e01103db-a219-4445-bce3-c281ce39bcf2"
      },
      "execution_count": null,
      "outputs": [
        {
          "output_type": "execute_result",
          "data": {
            "text/plain": [
              "(3264, 128, 128, 3)"
            ]
          },
          "metadata": {},
          "execution_count": 7
        }
      ]
    },
    {
      "cell_type": "code",
      "source": [
        "train_label.shape"
      ],
      "metadata": {
        "id": "5tp0SI3AK5b9",
        "colab": {
          "base_uri": "https://localhost:8080/"
        },
        "outputId": "6ef69b05-dc59-458d-dc83-e57ec9a3e8e8"
      },
      "execution_count": null,
      "outputs": [
        {
          "output_type": "execute_result",
          "data": {
            "text/plain": [
              "(3264,)"
            ]
          },
          "metadata": {},
          "execution_count": 8
        }
      ]
    },
    {
      "cell_type": "code",
      "source": [
        "train_img,train_label = shuffle(train_img,train_label,random_state=12)"
      ],
      "metadata": {
        "id": "qNat9jRhM4ha"
      },
      "execution_count": null,
      "outputs": []
    },
    {
      "cell_type": "code",
      "source": [
        "train_label.shape"
      ],
      "metadata": {
        "id": "lNFQ8qwoOl7C",
        "colab": {
          "base_uri": "https://localhost:8080/"
        },
        "outputId": "33e03b6d-8ae0-4718-919d-0b64f46ad2ee"
      },
      "execution_count": null,
      "outputs": [
        {
          "output_type": "execute_result",
          "data": {
            "text/plain": [
              "(3264,)"
            ]
          },
          "metadata": {},
          "execution_count": 10
        }
      ]
    },
    {
      "cell_type": "code",
      "source": [
        "train_img,test_img,train_label,test_label = train_test_split(train_img,train_label,test_size=0.3)"
      ],
      "metadata": {
        "id": "h2gKVx7XRvIk"
      },
      "execution_count": null,
      "outputs": []
    },
    {
      "cell_type": "code",
      "source": [
        "print(train_img.shape)\n",
        "print(train_label.shape)\n",
        "print(test_img.shape)\n",
        "print(test_label.shape)"
      ],
      "metadata": {
        "id": "s6pyVxH9Rwfv",
        "colab": {
          "base_uri": "https://localhost:8080/"
        },
        "outputId": "1e508bc9-4576-4ee9-c76d-fb8c7bd5b201"
      },
      "execution_count": null,
      "outputs": [
        {
          "output_type": "stream",
          "name": "stdout",
          "text": [
            "(2284, 128, 128, 3)\n",
            "(2284,)\n",
            "(980, 128, 128, 3)\n",
            "(980,)\n"
          ]
        }
      ]
    },
    {
      "cell_type": "code",
      "source": [
        "trainLabelNew = []\n",
        "testLabelNew = []\n",
        "\n",
        "for i in train_label:\n",
        "    trainLabelNew.append(etiket.index(i))\n",
        "train_label = trainLabelNew\n",
        "train_label = to_categorical(train_label)\n",
        "\n",
        "\n",
        "testLabelNew = []\n",
        "for i in test_label:\n",
        "    testLabelNew.append(etiket.index(i))\n",
        "test_label = testLabelNew\n",
        "test_label = to_categorical(test_label)\n"
      ],
      "metadata": {
        "id": "0j-G_B2oYpAn"
      },
      "execution_count": null,
      "outputs": []
    },
    {
      "cell_type": "code",
      "source": [
        "print(train_img.shape)\n",
        "print(train_label.shape)\n",
        "print(test_img.shape)"
      ],
      "metadata": {
        "id": "8_uIMBUda6Z3",
        "colab": {
          "base_uri": "https://localhost:8080/"
        },
        "outputId": "3450a724-a055-4056-b839-71072ef4588f"
      },
      "execution_count": null,
      "outputs": [
        {
          "output_type": "stream",
          "name": "stdout",
          "text": [
            "(2284, 128, 128, 3)\n",
            "(2284, 4)\n",
            "(980, 128, 128, 3)\n"
          ]
        }
      ]
    },
    {
      "cell_type": "code",
      "source": [
        "test_label.shape"
      ],
      "metadata": {
        "colab": {
          "base_uri": "https://localhost:8080/"
        },
        "id": "dJd2_uHVkRhy",
        "outputId": "c89b233d-224b-43d0-dc99-49fb1b700970"
      },
      "execution_count": null,
      "outputs": [
        {
          "output_type": "execute_result",
          "data": {
            "text/plain": [
              "(980, 4)"
            ]
          },
          "metadata": {},
          "execution_count": 15
        }
      ]
    },
    {
      "cell_type": "markdown",
      "source": [
        "## Modeller"
      ],
      "metadata": {
        "id": "79qLmTvYqUQg"
      }
    },
    {
      "cell_type": "markdown",
      "source": [
        "### DenseNet"
      ],
      "metadata": {
        "id": "SavuWzPLveYR"
      }
    },
    {
      "cell_type": "code",
      "source": [
        "modelDenseNet = Sequential()\n",
        "\n",
        "\n",
        "modelDenseNet.add(Conv2D(64,kernel_size=(3,3),activation=\"relu\",input_shape=(128,128,3)))\n",
        "modelDenseNet.add(BatchNormalization())\n",
        "modelDenseNet.add(MaxPooling2D((2,2)))\n",
        "modelDenseNet.add(Conv2D(128,kernel_size=(3,3),activation=\"relu\"))\n",
        "modelDenseNet.add(BatchNormalization())\n",
        "modelDenseNet.add(MaxPooling2D(2,2))\n",
        "modelDenseNet.add(Conv2D(256,kernel_size=(3,3),activation=\"relu\"))\n",
        "modelDenseNet.add(BatchNormalization())\n",
        "modelDenseNet.add(GlobalAveragePooling2D())\n",
        "\n",
        "modelDenseNet.add(Flatten())\n",
        "\n",
        "modelDenseNet.add(Dense(256,activation=\"relu\"))\n",
        "modelDenseNet.add(Dropout(0.5))\n",
        "modelDenseNet.add(Dense(4,activation=\"softmax\"))"
      ],
      "metadata": {
        "id": "uMgGiCIYoTRR"
      },
      "execution_count": null,
      "outputs": []
    },
    {
      "cell_type": "code",
      "source": [
        "modelDenseNet.compile(loss=\"categorical_crossentropy\",metrics=[\"accuracy\"],optimizer=\"adam\")"
      ],
      "metadata": {
        "id": "bezRIjSNpLw3"
      },
      "execution_count": null,
      "outputs": []
    },
    {
      "cell_type": "code",
      "source": [
        "modelDenseNet.fit(train_img,train_label,epochs=30,batch_size=20,validation_split=0.2)"
      ],
      "metadata": {
        "colab": {
          "base_uri": "https://localhost:8080/"
        },
        "id": "P8ED5oq9qG7M",
        "outputId": "4f9c762f-5917-47fa-b3e1-7a66d431e6e4"
      },
      "execution_count": null,
      "outputs": [
        {
          "output_type": "stream",
          "name": "stdout",
          "text": [
            "Epoch 1/30\n",
            "92/92 [==============================] - 18s 37ms/step - loss: 1.0606 - accuracy: 0.5698 - val_loss: 1.3995 - val_accuracy: 0.3545\n",
            "Epoch 2/30\n",
            "92/92 [==============================] - 3s 30ms/step - loss: 0.8735 - accuracy: 0.6398 - val_loss: 1.0118 - val_accuracy: 0.6061\n",
            "Epoch 3/30\n",
            "92/92 [==============================] - 3s 30ms/step - loss: 0.7642 - accuracy: 0.7033 - val_loss: 4.8062 - val_accuracy: 0.5252\n",
            "Epoch 4/30\n",
            "92/92 [==============================] - 3s 29ms/step - loss: 0.7002 - accuracy: 0.7050 - val_loss: 2.1627 - val_accuracy: 0.2845\n",
            "Epoch 5/30\n",
            "92/92 [==============================] - 3s 30ms/step - loss: 0.6032 - accuracy: 0.7581 - val_loss: 3.8904 - val_accuracy: 0.1685\n",
            "Epoch 6/30\n",
            "92/92 [==============================] - 3s 32ms/step - loss: 0.5701 - accuracy: 0.7750 - val_loss: 1.3859 - val_accuracy: 0.3742\n",
            "Epoch 7/30\n",
            "92/92 [==============================] - 3s 30ms/step - loss: 0.5241 - accuracy: 0.7833 - val_loss: 0.6486 - val_accuracy: 0.7265\n",
            "Epoch 8/30\n",
            "92/92 [==============================] - 3s 29ms/step - loss: 0.5217 - accuracy: 0.7904 - val_loss: 0.9915 - val_accuracy: 0.5886\n",
            "Epoch 9/30\n",
            "92/92 [==============================] - 3s 30ms/step - loss: 0.4669 - accuracy: 0.8183 - val_loss: 2.1675 - val_accuracy: 0.3501\n",
            "Epoch 10/30\n",
            "92/92 [==============================] - 3s 32ms/step - loss: 0.4174 - accuracy: 0.8363 - val_loss: 0.8713 - val_accuracy: 0.6805\n",
            "Epoch 11/30\n",
            "92/92 [==============================] - 3s 31ms/step - loss: 0.4033 - accuracy: 0.8533 - val_loss: 6.0092 - val_accuracy: 0.4530\n",
            "Epoch 12/30\n",
            "92/92 [==============================] - 3s 36ms/step - loss: 0.3602 - accuracy: 0.8719 - val_loss: 1.2709 - val_accuracy: 0.5799\n",
            "Epoch 13/30\n",
            "92/92 [==============================] - 3s 31ms/step - loss: 0.3439 - accuracy: 0.8637 - val_loss: 0.7792 - val_accuracy: 0.7571\n",
            "Epoch 14/30\n",
            "92/92 [==============================] - 3s 31ms/step - loss: 0.3526 - accuracy: 0.8654 - val_loss: 0.8475 - val_accuracy: 0.6871\n",
            "Epoch 15/30\n",
            "92/92 [==============================] - 3s 30ms/step - loss: 0.3075 - accuracy: 0.8840 - val_loss: 4.4705 - val_accuracy: 0.3654\n",
            "Epoch 16/30\n",
            "92/92 [==============================] - 3s 29ms/step - loss: 0.3145 - accuracy: 0.8829 - val_loss: 1.6429 - val_accuracy: 0.4989\n",
            "Epoch 17/30\n",
            "92/92 [==============================] - 3s 31ms/step - loss: 0.2671 - accuracy: 0.8960 - val_loss: 2.7518 - val_accuracy: 0.5427\n",
            "Epoch 18/30\n",
            "92/92 [==============================] - 3s 29ms/step - loss: 0.2289 - accuracy: 0.9201 - val_loss: 1.4056 - val_accuracy: 0.5164\n",
            "Epoch 19/30\n",
            "92/92 [==============================] - 3s 31ms/step - loss: 0.2093 - accuracy: 0.9201 - val_loss: 1.9325 - val_accuracy: 0.6674\n",
            "Epoch 20/30\n",
            "92/92 [==============================] - 3s 30ms/step - loss: 0.1956 - accuracy: 0.9256 - val_loss: 1.0277 - val_accuracy: 0.6827\n",
            "Epoch 21/30\n",
            "92/92 [==============================] - 3s 30ms/step - loss: 0.1777 - accuracy: 0.9288 - val_loss: 1.6005 - val_accuracy: 0.5777\n",
            "Epoch 22/30\n",
            "92/92 [==============================] - 3s 31ms/step - loss: 0.1734 - accuracy: 0.9338 - val_loss: 5.3705 - val_accuracy: 0.4486\n",
            "Epoch 23/30\n",
            "92/92 [==============================] - 3s 30ms/step - loss: 0.1311 - accuracy: 0.9535 - val_loss: 0.8469 - val_accuracy: 0.7899\n",
            "Epoch 24/30\n",
            "92/92 [==============================] - 3s 31ms/step - loss: 0.1898 - accuracy: 0.9327 - val_loss: 1.1309 - val_accuracy: 0.7505\n",
            "Epoch 25/30\n",
            "92/92 [==============================] - 3s 32ms/step - loss: 0.1316 - accuracy: 0.9595 - val_loss: 1.4484 - val_accuracy: 0.5536\n",
            "Epoch 26/30\n",
            "92/92 [==============================] - 3s 30ms/step - loss: 0.1452 - accuracy: 0.9551 - val_loss: 2.7669 - val_accuracy: 0.5908\n",
            "Epoch 27/30\n",
            "92/92 [==============================] - 3s 31ms/step - loss: 0.1294 - accuracy: 0.9507 - val_loss: 0.6734 - val_accuracy: 0.8162\n",
            "Epoch 28/30\n",
            "92/92 [==============================] - 3s 31ms/step - loss: 0.0906 - accuracy: 0.9683 - val_loss: 0.8715 - val_accuracy: 0.8053\n",
            "Epoch 29/30\n",
            "92/92 [==============================] - 3s 31ms/step - loss: 0.0658 - accuracy: 0.9770 - val_loss: 0.8727 - val_accuracy: 0.7812\n",
            "Epoch 30/30\n",
            "92/92 [==============================] - 3s 32ms/step - loss: 0.0732 - accuracy: 0.9770 - val_loss: 0.5508 - val_accuracy: 0.8118\n"
          ]
        },
        {
          "output_type": "execute_result",
          "data": {
            "text/plain": [
              "<keras.callbacks.History at 0x7f710c0dbf40>"
            ]
          },
          "metadata": {},
          "execution_count": 18
        }
      ]
    },
    {
      "cell_type": "code",
      "source": [
        "loss1,accuracy1 = modelDenseNet.evaluate(test_img,test_label)"
      ],
      "metadata": {
        "colab": {
          "base_uri": "https://localhost:8080/"
        },
        "id": "rakzg7zhrQ0d",
        "outputId": "6f38b6ce-1a00-41c6-da43-2783bdaa008f"
      },
      "execution_count": null,
      "outputs": [
        {
          "output_type": "stream",
          "name": "stdout",
          "text": [
            "31/31 [==============================] - 1s 12ms/step - loss: 0.5773 - accuracy: 0.8224\n"
          ]
        }
      ]
    },
    {
      "cell_type": "markdown",
      "source": [
        "### ResNet"
      ],
      "metadata": {
        "id": "CA-hgIU5vkNM"
      }
    },
    {
      "cell_type": "code",
      "source": [
        "modelResnet = Sequential()\n",
        "\n",
        "\n",
        "modelResnet.add(Conv2D(32, kernel_size=(3, 3), activation='relu', input_shape=(128,128, 3)))\n",
        "modelResnet.add(Conv2D(32, kernel_size=(3, 3), activation='relu', padding='same'))\n",
        "modelResnet.add(MaxPooling2D(pool_size=(2, 2), strides=(2, 2)))\n",
        "\n",
        "modelResnet.add(Conv2D(64, kernel_size=(3, 3), activation='relu', padding='same'))\n",
        "modelResnet.add(Conv2D(64, kernel_size=(3, 3), activation='relu', padding='same'))\n",
        "modelResnet.add(MaxPooling2D(pool_size=(2, 2), strides=(2, 2)))\n",
        "\n",
        "modelResnet.add(Conv2D(128, kernel_size=(3, 3), activation='relu', padding='same'))\n",
        "modelResnet.add(Conv2D(128, kernel_size=(3, 3), activation='relu', padding='same'))\n",
        "modelResnet.add(Conv2D(128, kernel_size=(3, 3), activation='relu', padding='same'))\n",
        "modelResnet.add(MaxPooling2D(pool_size=(2, 2), strides=(2, 2)))\n",
        "\n",
        "modelResnet.add(Conv2D(256, kernel_size=(3, 3), activation='relu', padding='same'))\n",
        "modelResnet.add(Conv2D(256, kernel_size=(3, 3), activation='relu', padding='same'))\n",
        "modelResnet.add(Conv2D(256, kernel_size=(3, 3), activation='relu', padding='same'))\n",
        "modelResnet.add(MaxPooling2D(pool_size=(2, 2), strides=(2, 2)))\n",
        "\n",
        "modelResnet.add(Flatten())\n",
        "\n",
        "modelResnet.add(Dense(512, activation='relu'))\n",
        "modelResnet.add(Dropout(0.5))\n",
        "\n",
        "modelResnet.add(Dense(512, activation='relu'))\n",
        "modelResnet.add(Dropout(0.5))\n",
        "\n",
        "modelResnet.add(Dense(4, activation='softmax'))\n",
        "\n",
        "\n",
        "modelResnet.compile(loss=\"categorical_crossentropy\",metrics=[\"accuracy\"],optimizer=\"adam\")\n",
        "\n",
        "history = modelResnet.fit(train_img,train_label,epochs=10,validation_split=0.2,batch_size=128)"
      ],
      "metadata": {
        "colab": {
          "base_uri": "https://localhost:8080/"
        },
        "id": "hNV8-bjBvn9_",
        "outputId": "3611ed03-f002-4c1c-80a3-1ad94435df65"
      },
      "execution_count": null,
      "outputs": [
        {
          "output_type": "stream",
          "name": "stdout",
          "text": [
            "Epoch 1/10\n",
            "15/15 [==============================] - 14s 393ms/step - loss: 1.9862 - accuracy: 0.2775 - val_loss: 1.3522 - val_accuracy: 0.3961\n",
            "Epoch 2/10\n",
            "15/15 [==============================] - 3s 198ms/step - loss: 1.2827 - accuracy: 0.4160 - val_loss: 1.1672 - val_accuracy: 0.4530\n",
            "Epoch 3/10\n",
            "15/15 [==============================] - 3s 204ms/step - loss: 1.1597 - accuracy: 0.5019 - val_loss: 1.0370 - val_accuracy: 0.4705\n",
            "Epoch 4/10\n",
            "15/15 [==============================] - 3s 200ms/step - loss: 1.0060 - accuracy: 0.5539 - val_loss: 1.0197 - val_accuracy: 0.5536\n",
            "Epoch 5/10\n",
            "15/15 [==============================] - 3s 197ms/step - loss: 0.9393 - accuracy: 0.6059 - val_loss: 0.9049 - val_accuracy: 0.6521\n",
            "Epoch 6/10\n",
            "15/15 [==============================] - 3s 197ms/step - loss: 0.8069 - accuracy: 0.6546 - val_loss: 0.7864 - val_accuracy: 0.6915\n",
            "Epoch 7/10\n",
            "15/15 [==============================] - 3s 195ms/step - loss: 0.7529 - accuracy: 0.7099 - val_loss: 0.6953 - val_accuracy: 0.7090\n",
            "Epoch 8/10\n",
            "15/15 [==============================] - 3s 205ms/step - loss: 0.6641 - accuracy: 0.7280 - val_loss: 0.7586 - val_accuracy: 0.6849\n",
            "Epoch 9/10\n",
            "15/15 [==============================] - 3s 206ms/step - loss: 0.5898 - accuracy: 0.7674 - val_loss: 0.6461 - val_accuracy: 0.7462\n",
            "Epoch 10/10\n",
            "15/15 [==============================] - 3s 204ms/step - loss: 0.4922 - accuracy: 0.8095 - val_loss: 0.5834 - val_accuracy: 0.7987\n"
          ]
        }
      ]
    },
    {
      "cell_type": "code",
      "source": [
        "loss2,accuracy2 = modelResnet.evaluate(test_img,test_label)"
      ],
      "metadata": {
        "colab": {
          "base_uri": "https://localhost:8080/"
        },
        "id": "329jSHDkw8Ab",
        "outputId": "e2cfb01c-cf69-4a8c-b147-6246376de510"
      },
      "execution_count": null,
      "outputs": [
        {
          "output_type": "stream",
          "name": "stdout",
          "text": [
            "31/31 [==============================] - 1s 27ms/step - loss: 0.5916 - accuracy: 0.7847\n"
          ]
        }
      ]
    },
    {
      "cell_type": "markdown",
      "source": [
        "### AlexNet"
      ],
      "metadata": {
        "id": "FYzt4Zci2Ezi"
      }
    },
    {
      "cell_type": "code",
      "source": [
        "modelAlexnet = Sequential()\n",
        "\n",
        "\n",
        "modelAlexnet.add(Conv2D(96,kernel_size=(11,11),strides=(4,4),activation=\"relu\",input_shape=(128,128,3)))\n",
        "\n",
        "modelAlexnet.add(MaxPooling2D(pool_size=(3, 3), strides= (2, 2)))\n",
        "modelAlexnet.add(Conv2D(256,kernel_size=(5,5),strides=(1,1),activation=\"relu\",padding=\"same\"))\n",
        "\n",
        "modelAlexnet.add(MaxPooling2D(pool_size=(2, 2), strides=(2, 2)))\n",
        "modelAlexnet.add(Conv2D(384,kernel_size=(3,3),strides=(1,1),activation=\"relu\",padding=\"same\"))\n",
        "\n",
        "modelAlexnet.add(Conv2D(384,kernel_size=(3,3),strides=(1,1),activation=\"relu\",padding=\"same\"))\n",
        "\n",
        "modelAlexnet.add(Conv2D(256,kernel_size=(3,3),strides=(1,1),activation=\"relu\",padding=\"same\"))\n",
        "\n",
        "modelAlexnet.add(MaxPooling2D(pool_size=(1, 1), strides=(2, 2)))\n",
        "\n",
        "modelAlexnet.add(Flatten())\n",
        "\n",
        "modelAlexnet.add(Dense(4096,activation=\"relu\"))\n",
        "modelAlexnet.add(Dropout(0.5))\n",
        "modelAlexnet.add(Dense(4096,activation=\"relu\"))\n",
        "modelAlexnet.add(Dropout(0.5))\n",
        "modelAlexnet.add(Dense(4,activation=\"softmax\"))"
      ],
      "metadata": {
        "id": "sIq82e-S2MCt"
      },
      "execution_count": null,
      "outputs": []
    },
    {
      "cell_type": "code",
      "source": [
        "modelAlexnet.compile(metrics=[\"accuracy\"],loss=\"categorical_crossentropy\",optimizer=\"adam\")"
      ],
      "metadata": {
        "id": "XNDU2gFO2QLz"
      },
      "execution_count": null,
      "outputs": []
    },
    {
      "cell_type": "code",
      "source": [
        "history = modelAlexnet.fit(train_img,train_label,epochs=10,batch_size=128,validation_split=0.2)"
      ],
      "metadata": {
        "colab": {
          "base_uri": "https://localhost:8080/"
        },
        "id": "zmh6Z1Wt2RhZ",
        "outputId": "4acae0bc-3e49-46c0-a21e-75a48c441149"
      },
      "execution_count": null,
      "outputs": [
        {
          "output_type": "stream",
          "name": "stdout",
          "text": [
            "Epoch 1/10\n",
            "15/15 [==============================] - 6s 139ms/step - loss: 30.8901 - accuracy: 0.3202 - val_loss: 1.3759 - val_accuracy: 0.4573\n",
            "Epoch 2/10\n",
            "15/15 [==============================] - 1s 51ms/step - loss: 1.2412 - accuracy: 0.4707 - val_loss: 1.1448 - val_accuracy: 0.5602\n",
            "Epoch 3/10\n",
            "15/15 [==============================] - 1s 51ms/step - loss: 1.0643 - accuracy: 0.5577 - val_loss: 1.0503 - val_accuracy: 0.5383\n",
            "Epoch 4/10\n",
            "15/15 [==============================] - 1s 51ms/step - loss: 0.8965 - accuracy: 0.6108 - val_loss: 0.9383 - val_accuracy: 0.5821\n",
            "Epoch 5/10\n",
            "15/15 [==============================] - 1s 51ms/step - loss: 0.8201 - accuracy: 0.6371 - val_loss: 0.9089 - val_accuracy: 0.5842\n",
            "Epoch 6/10\n",
            "15/15 [==============================] - 1s 51ms/step - loss: 0.7213 - accuracy: 0.6880 - val_loss: 0.7296 - val_accuracy: 0.6849\n",
            "Epoch 7/10\n",
            "15/15 [==============================] - 1s 51ms/step - loss: 0.7276 - accuracy: 0.6897 - val_loss: 0.7701 - val_accuracy: 0.6805\n",
            "Epoch 8/10\n",
            "15/15 [==============================] - 1s 51ms/step - loss: 0.5866 - accuracy: 0.7515 - val_loss: 0.6927 - val_accuracy: 0.7090\n",
            "Epoch 9/10\n",
            "15/15 [==============================] - 1s 51ms/step - loss: 0.4994 - accuracy: 0.7958 - val_loss: 0.7081 - val_accuracy: 0.7090\n",
            "Epoch 10/10\n",
            "15/15 [==============================] - 1s 51ms/step - loss: 0.4310 - accuracy: 0.8347 - val_loss: 0.7205 - val_accuracy: 0.7352\n"
          ]
        }
      ]
    },
    {
      "cell_type": "code",
      "source": [
        "loss2,accuracy2 = modelAlexnet.evaluate(test_img,test_label)"
      ],
      "metadata": {
        "colab": {
          "base_uri": "https://localhost:8080/"
        },
        "id": "qouqU-uF2THb",
        "outputId": "70677a59-471b-422d-ebb5-3fb00926f2fb"
      },
      "execution_count": null,
      "outputs": [
        {
          "output_type": "stream",
          "name": "stdout",
          "text": [
            "31/31 [==============================] - 1s 11ms/step - loss: 0.6952 - accuracy: 0.7480\n"
          ]
        }
      ]
    },
    {
      "cell_type": "markdown",
      "source": [
        "### LeNet"
      ],
      "metadata": {
        "id": "AW9ZgCyL2z1P"
      }
    },
    {
      "cell_type": "code",
      "source": [
        "modelLenet = Sequential()\n",
        "\n",
        "modelLenet.add(Conv2D(filters=6,kernel_size=(5,5),padding=\"valid\",activation=\"relu\",input_shape=(128,128,3)))\n",
        "modelLenet.add(MaxPooling2D(pool_size=(2,2)))\n",
        "modelLenet.add(Conv2D(filters=16,kernel_size=(5,5),activation=\"relu\"))\n",
        "modelLenet.add(MaxPooling2D(pool_size=(2,2)))\n",
        "\n",
        "modelLenet.add(Flatten())\n",
        "\n",
        "modelLenet.add(Dense(120,activation=\"relu\"))\n",
        "\n",
        "modelLenet.add(Dense(4,activation=\"softmax\"))\n",
        "\n",
        "modelLenet.compile(metrics=[\"accuracy\"],optimizer=\"adam\",loss=\"categorical_crossentropy\")"
      ],
      "metadata": {
        "id": "ZgzksZR-21aB"
      },
      "execution_count": null,
      "outputs": []
    },
    {
      "cell_type": "code",
      "source": [
        "history = modelLenet.fit(train_img,train_label,epochs=10,batch_size=128,validation_split=0.2)"
      ],
      "metadata": {
        "colab": {
          "base_uri": "https://localhost:8080/"
        },
        "id": "t8lsSp-Z2-TS",
        "outputId": "6dcd44e8-8767-46b3-f33e-2a97710dcfe4"
      },
      "execution_count": null,
      "outputs": [
        {
          "output_type": "stream",
          "name": "stdout",
          "text": [
            "Epoch 1/10\n",
            "15/15 [==============================] - 2s 48ms/step - loss: 79.6625 - accuracy: 0.3098 - val_loss: 3.7779 - val_accuracy: 0.3676\n",
            "Epoch 2/10\n",
            "15/15 [==============================] - 0s 25ms/step - loss: 1.6904 - accuracy: 0.4877 - val_loss: 1.2099 - val_accuracy: 0.5011\n",
            "Epoch 3/10\n",
            "15/15 [==============================] - 0s 24ms/step - loss: 1.0050 - accuracy: 0.6245 - val_loss: 1.0256 - val_accuracy: 0.5974\n",
            "Epoch 4/10\n",
            "15/15 [==============================] - 0s 22ms/step - loss: 0.2086 - accuracy: 0.9365 - val_loss: 0.8643 - val_accuracy: 0.7790\n",
            "Epoch 8/10\n",
            "15/15 [==============================] - 0s 23ms/step - loss: 0.1097 - accuracy: 0.9743 - val_loss: 0.8579 - val_accuracy: 0.8162\n",
            "Epoch 9/10\n",
            "15/15 [==============================] - 0s 27ms/step - loss: 0.0560 - accuracy: 0.9907 - val_loss: 0.8926 - val_accuracy: 0.8074\n",
            "Epoch 10/10\n",
            "15/15 [==============================] - 0s 27ms/step - loss: 0.0362 - accuracy: 0.9940 - val_loss: 1.0968 - val_accuracy: 0.8162\n"
          ]
        }
      ]
    },
    {
      "cell_type": "code",
      "source": [
        "loss,accuracy = modelLenet.evaluate(test_img,test_label)"
      ],
      "metadata": {
        "colab": {
          "base_uri": "https://localhost:8080/"
        },
        "id": "IbNC1xFJ2_Xx",
        "outputId": "0a55f7a3-031c-4eab-ace0-602fbf2459b0"
      },
      "execution_count": null,
      "outputs": [
        {
          "output_type": "stream",
          "name": "stdout",
          "text": [
            "31/31 [==============================] - 0s 6ms/step - loss: 1.0471 - accuracy: 0.7745\n"
          ]
        }
      ]
    },
    {
      "cell_type": "code",
      "source": [],
      "metadata": {
        "id": "v2XVF5cuc-9q"
      },
      "execution_count": null,
      "outputs": []
    }
  ]
}